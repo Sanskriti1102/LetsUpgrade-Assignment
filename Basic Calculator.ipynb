{
 "cells": [
  {
   "cell_type": "markdown",
   "id": "9f5a425e",
   "metadata": {},
   "source": [
    "# Create a calculator - Project by LetsUpgrade\n",
    "\n",
    "Problem Statement: Create a calculator program that performs basic arithmetic operations on two numbers entered by the user. The program should provide a menu of operations for the user to choose from and display the result based on the selected operation. The program should include the following functionalities:\n",
    "\n",
    "Addition: Add two numbers and display the sum.\n",
    "Subtraction: Subtract the smaller number from the larger number and display the result.\n",
    "Multiplication: Multiply two numbers and display the product.\n",
    "Division: Perform division on two numbers and display the result in decimal form and as an integer quotient.\n",
    "Modulus: Calculate the remainder when the first number is divided by the second number and display the result.\n",
    "Exit: Terminate the program.\n",
    "The program should prompt the user to enter two numbers and their choice of operation. Based on the chosen operation, the program should perform the calculation and display the result accordingly. If the user selects the \"Exit\" option, the program should terminate.\n",
    "\n",
    "Note: The program assumes that the user will enter valid integer values for the numbers and make appropriate choices from the menu."
   ]
  },
  {
   "cell_type": "code",
   "execution_count": 3,
   "id": "0d35d515",
   "metadata": {},
   "outputs": [
    {
     "name": "stdout",
     "output_type": "stream",
     "text": [
      "<----  Calculator  ---->\n",
      "\n",
      "Enter the following two numbers :\n",
      "5 2\n",
      "\n",
      "1.Addition\n",
      "2.Subtraction\n",
      "3.Multiplication\n",
      "4.Division\n",
      "5.Modulus\n",
      "6.Exit\n",
      "\n",
      "Enter your choice:\n",
      "4\n",
      "Division of two numbers (in decimals) = 2.5\n",
      "Division of two numbers (gives only integer): 2\n"
     ]
    }
   ],
   "source": [
    "import math\n",
    "\n",
    "print(\"<----  Calculator  ---->\")\n",
    "\n",
    "print(\"\\nEnter the following two numbers :\")\n",
    "n1,n2=map(int,input().split())\n",
    "\n",
    "print(\"\\n1.Addition\\n2.Subtraction\\n3.Multiplication\\n4.Division\\n5.Modulus\\n6.Exit\")\n",
    "print(\"\\nEnter your choice:\")\n",
    "choice=int(input())\n",
    "\n",
    "if choice ==1:\n",
    "    sum=n1+n2\n",
    "    print(\"Addition of two numbers = {sum}\".format(sum=sum))\n",
    "elif choice==2:\n",
    "    if n1>n2:\n",
    "        sub=n1-n2\n",
    "        print(\"Subtraction of two numbers = {sub}\".format(sub=sub))\n",
    "    else :\n",
    "        sub=n2-n1\n",
    "        print(\"Subtraction of two numbers = {sub}\".format(sub=sub))\n",
    "elif choice==3:\n",
    "    multiply=n1*n2\n",
    "    print(\"Multiplication of two numbers = {multiply}\".format(multiply=multiply))\n",
    "elif choice==4:\n",
    "    div=n1/n2\n",
    "    print(\"Division of two numbers (in decimals) = {div}\".format(div=div))\n",
    "    divi=n1//n2\n",
    "    print(\"Division of two numbers (gives only integer): {divi}\".format(divi=divi))\n",
    "elif choice==5:\n",
    "    mod=n1%n2\n",
    "    print(\"Modulus of two numbers = {mod}\".format(mod=mod))\n",
    "else :\n",
    "    print(\"Exit\")\n"
   ]
  },
  {
   "cell_type": "code",
   "execution_count": null,
   "id": "c11b72d5",
   "metadata": {},
   "outputs": [],
   "source": []
  }
 ],
 "metadata": {
  "kernelspec": {
   "display_name": "Python 3 (ipykernel)",
   "language": "python",
   "name": "python3"
  },
  "language_info": {
   "codemirror_mode": {
    "name": "ipython",
    "version": 3
   },
   "file_extension": ".py",
   "mimetype": "text/x-python",
   "name": "python",
   "nbconvert_exporter": "python",
   "pygments_lexer": "ipython3",
   "version": "3.9.13"
  }
 },
 "nbformat": 4,
 "nbformat_minor": 5
}
